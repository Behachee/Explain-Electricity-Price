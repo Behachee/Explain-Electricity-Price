{
 "cells": [
  {
   "cell_type": "markdown",
   "metadata": {},
   "source": [
    "# QRT Challenge Data 2024\n",
    "## Data Specs (Copied from Official)\n",
    "- `X_train` and `X_test` both have $35$ columns that represent the same explanatory variables but over different time periods. \n",
    "\n",
    "- `X_train` and `Y_train` share the same column `ID` - each row corresponds to a unique ID associated wwith a day and a country. \n",
    "\n",
    "- The target of this challenge `TARGET` in `Y_train` corresponds to the price change for daily futures contracts of 24H electricity baseload. \n",
    "\n",
    "- **You will notice some columns have missing values**.\n",
    "\n",
    "Input data sets comprise 35 columns:\n",
    "\n",
    "ID: Unique row identifier, associated with a day (DAY_ID) and a country (COUNTRY),\n",
    "\n",
    "DAY_ID: Day identifier - dates have been anonymized, but all data corresponding to a specific day is consistent,\n",
    "\n",
    "COUNTRY: Country identifier - DE = Germany, FR = France,\n",
    "and then contains daily commodity price variations,\n",
    "\n",
    "GAS_RET: European gas,\n",
    "\n",
    "COAL_RET: European coal,\n",
    "\n",
    "CARBON_RET: Carbon emissions futures,\n",
    "\n",
    "#### Weather measures (daily, in the country x)\n",
    "\n",
    "x_TEMP: Temperature,\n",
    "\n",
    "x_RAIN: Rainfall,\n",
    "\n",
    "x_WIND: Wind,\n",
    "\n",
    "\n",
    "#### Energy production measures (daily, in the country x)\n",
    "\n",
    "x_GAS: Natural gas,\n",
    "\n",
    "x_COAL: Hard coal,\n",
    "\n",
    "x_HYDRO: Hydro reservoir,\n",
    "\n",
    "x_NUCLEAR: Daily nuclear production,\n",
    "\n",
    "x_SOLAR: Photovoltaic,\n",
    "\n",
    "x_WINDPOW: Wind power,\n",
    "\n",
    "x_LIGNITE: Lignite,\n",
    "\n",
    "#### Electricity use metrics (daily, in the country x)\n",
    "\n",
    "x_CONSUMPTON: Total electricity consumption,\n",
    "\n",
    "x_RESIDUAL_LOAD: Electricity consumption after using all renewable energies,\n",
    "\n",
    "x_NET_IMPORT: Imported electricity from Europe,\n",
    "\n",
    "x_NET_EXPORT: Exported electricity to Europe,\n",
    "\n",
    "DE_FR_EXCHANGE: Total daily electricity exchange between Germany and France,\n",
    "\n",
    "FR_DE_EXCHANGE: Total daily electricity exchange between France and Germany.\n",
    "\n",
    "Output data sets are composed of two columns:\n",
    "\n",
    "ID: Unique row identifier - corresponding to the input identifiers,\n",
    "\n",
    "TARGET: Daily price variation for futures of 24H electricity baseload.\n"
   ]
  },
  {
   "cell_type": "code",
   "execution_count": 1,
   "metadata": {},
   "outputs": [],
   "source": [
    "def warn(*args, **kwargs):\n",
    "    pass\n",
    "import warnings\n",
    "warnings.warn = warn\n",
    "\n",
    "import matplotlib.pyplot as plt\n",
    "import numpy as np\n",
    "import pandas as pd\n",
    "import seaborn as sns\n",
    "import itertools as it\n",
    "from scipy.stats import spearmanr\n",
    "from sklearn.linear_model import LinearRegression\n",
    "from sklearn.feature_selection import mutual_info_regression as mir\n",
    "from sklearn.model_selection import train_test_split\n",
    "from sklearn.tree import DecisionTreeRegressor\n",
    "from sklearn.preprocessing import PolynomialFeatures\n",
    "from sklearn.preprocessing import OneHotEncoder as onehot\n",
    "from sklearn import linear_model\n",
    "from sklearn.cluster import KMeans\n",
    "from sklearn.neural_network import MLPRegressor\n",
    "from sklearn.decomposition import PCA\n",
    "import xgboost as xgb\n",
    "import lightgbm as lgb"
   ]
  },
  {
   "cell_type": "code",
   "execution_count": 2,
   "metadata": {},
   "outputs": [],
   "source": [
    "from sklearn.model_selection import TimeSeriesSplit\n",
    "df = pd.read_csv('data/X_train_NHkHMNU.csv')\n",
    "y = pd.read_csv('data/y_train_ZAN5mwg.csv')\n",
    "true_test = pd.read_csv('data/X_test_final.csv')\n",
    "pd.set_option('display.max_columns', None)\n"
   ]
  },
  {
   "cell_type": "code",
   "execution_count": null,
   "metadata": {},
   "outputs": [],
   "source": [
    "#Drop the columns that are not useful\n",
    "x_train_clean = df.drop(['ID', 'DAY_ID', 'FR_DE_EXCHANGE', 'FR_NET_EXPORT', 'DE_NET_EXPORT'], axis=1).fillna(df.mean(numeric_only=True))\n",
    "x_test_clean = true_test.drop(['ID', 'DAY_ID', 'FR_DE_EXCHANGE', 'FR_NET_EXPORT', 'DE_NET_EXPORT'], axis=1).fillna(df.mean(numeric_only=True))"
   ]
  },
  {
   "cell_type": "code",
   "execution_count": null,
   "metadata": {},
   "outputs": [],
   "source": [
    "#Factorize the COUNTRY column\n",
    "x_train_clean['COUNTRY'] = x_train_clean['COUNTRY'].factorize()[0]\n",
    "x_test_clean['COUNTRY'] = x_test_clean['COUNTRY'].factorize()[0]"
   ]
  },
  {
   "cell_type": "code",
   "execution_count": null,
   "metadata": {},
   "outputs": [],
   "source": []
  }
 ],
 "metadata": {
  "kernelspec": {
   "display_name": "Python 3",
   "language": "python",
   "name": "python3"
  },
  "language_info": {
   "codemirror_mode": {
    "name": "ipython",
    "version": 3
   },
   "file_extension": ".py",
   "mimetype": "text/x-python",
   "name": "python",
   "nbconvert_exporter": "python",
   "pygments_lexer": "ipython3",
   "version": "3.9.6"
  }
 },
 "nbformat": 4,
 "nbformat_minor": 2
}
