{
 "cells": [
  {
   "cell_type": "code",
   "execution_count": 16,
   "metadata": {},
   "outputs": [],
   "source": [
    "def warn(*args, **kwargs):\n",
    "    pass\n",
    "import warnings\n",
    "warnings.warn = warn\n",
    "\n",
    "import matplotlib.pyplot as plt\n",
    "import numpy as np\n",
    "import pandas as pd\n",
    "import seaborn as sns\n",
    "import itertools as it\n",
    "from scipy.stats import spearmanr\n",
    "from sklearn.linear_model import LinearRegression\n",
    "from sklearn.feature_selection import mutual_info_regression as mir\n",
    "from sklearn.model_selection import train_test_split\n",
    "from sklearn.tree import DecisionTreeRegressor\n",
    "from sklearn.preprocessing import PolynomialFeatures\n",
    "from sklearn.preprocessing import OneHotEncoder as onehot\n",
    "from sklearn import linear_model\n",
    "from sklearn.cluster import KMeans\n",
    "from sklearn.neural_network import MLPRegressor\n",
    "from sklearn.decomposition import PCA\n",
    "import xgboost as xgb\n",
    "import lightgbm as lgb\n",
    "from sklearn.impute import KNNImputer\n",
    "from sklearn.metrics import mean_squared_error, mean_absolute_error"
   ]
  },
  {
   "cell_type": "code",
   "execution_count": 17,
   "metadata": {},
   "outputs": [],
   "source": [
    "x_train = pd.read_csv('data/final_dataset/x_train.csv')\n",
    "y_train = pd.read_csv('data/y_train_ZAN5mwg.csv')\n",
    "x_test = pd.read_csv('data/final_dataset/x_test.csv')\n",
    "pd.set_option('display.max_columns', None)"
   ]
  },
  {
   "cell_type": "code",
   "execution_count": 18,
   "metadata": {},
   "outputs": [],
   "source": [
    "def metric_train(output, test):\n",
    "    # Calculate MSE and MAE for the benchmark\n",
    "    mse = mean_squared_error(output, test)\n",
    "    mae = mean_absolute_error(output, test)\n",
    "    spearman_corr = spearmanr(output, test).correlation\n",
    "    return mse, mae, spearman_corr"
   ]
  },
  {
   "cell_type": "code",
   "execution_count": 19,
   "metadata": {},
   "outputs": [
    {
     "name": "stdout",
     "output_type": "stream",
     "text": [
      "Spearman correlation for XGB: 27.1%\n",
      "MSE for XGB: 1.0\n",
      "MAE for XGB: 0.6\n"
     ]
    }
   ],
   "source": [
    "xgb_model = xgb.XGBRegressor(objective=\"reg:squarederror\", random_state=88, eta=0.3, gamma=15, max_depth=5)\n",
    "xgb_model.fit(x_train, y_train['TARGET'])\n",
    "xgb_test_output = xgb_model.predict(x_train)\n",
    "print('Spearman correlation for XGB: {:.1f}%'.format(100 * metric_train(xgb_test_output, y_train['TARGET'])[2]))\n",
    "print('MSE for XGB: {:.1f}'.format(metric_train(xgb_test_output, y_train['TARGET'])[0]))\n",
    "print('MAE for XGB: {:.1f}'.format(metric_train(xgb_test_output, y_train['TARGET'])[1]))"
   ]
  },
  {
   "cell_type": "code",
   "execution_count": 23,
   "metadata": {},
   "outputs": [
    {
     "name": "stdout",
     "output_type": "stream",
     "text": [
      "Best parameters: {'colsample_bytree': 1.0, 'eta': 0.3, 'gamma': 5, 'learning_rate': 0.1, 'max_depth': 5, 'n_estimators': 200, 'subsample': 0.8}\n",
      "Best score (negative spearman correlation): -0.24466535023596386\n"
     ]
    }
   ],
   "source": [
    "from sklearn.model_selection import GridSearchCV\n",
    "param_grid = {\n",
    "    'max_depth': [3, 5, 7],\n",
    "    'learning_rate': [0.1, 0.01, 0.001],\n",
    "    'n_estimators': [100, 200, 300],\n",
    "    'gamma': [0, 1, 5],\n",
    "    'eta': [0.3, 0.1, 0.01],\n",
    "    'subsample': [0.8, 1.0],\n",
    "    'colsample_bytree': [0.8, 1.0]\n",
    "}\n",
    "\n",
    "def custom_spearman_scorer(estimator, X, y):\n",
    "    predictions = estimator.predict(X)\n",
    "    spearman_corr, _ = spearmanr(predictions, y)\n",
    "    return spearman_corr\n",
    "\n",
    "xgb_model = xgb.XGBRegressor(objective=\"reg:absoluteerror\", random_state=88)\n",
    "\n",
    "grid_search = GridSearchCV(estimator=xgb_model, param_grid=param_grid, cv=5, scoring=custom_spearman_scorer)\n",
    "grid_search.fit(x_train, y_train['TARGET'])\n",
    "\n",
    "best_params = grid_search.best_params_\n",
    "best_score = -grid_search.best_score_\n",
    "\n",
    "print(\"Best parameters:\", best_params)\n",
    "print(\"Best score (negative spearman correlation):\", best_score)\n",
    "\n"
   ]
  },
  {
   "cell_type": "code",
   "execution_count": 24,
   "metadata": {},
   "outputs": [
    {
     "name": "stdout",
     "output_type": "stream",
     "text": [
      "Spearman correlation for XGB: 78.6%\n",
      "MSE for XGB: 0.9\n",
      "MAE for XGB: 0.4\n"
     ]
    }
   ],
   "source": [
    "Best_parameters= {'colsample_bytree': 1.0, 'eta': 0.3, 'gamma': 5, 'learning_rate': 0.1, 'max_depth': 5, 'n_estimators': 200, 'subsample': 0.8}\n",
    "\n",
    "best_model = xgb.XGBRegressor(objective=\"reg:absoluteerror\", random_state=88, **Best_parameters)\n",
    "best_model.fit(x_train, y_train['TARGET'])\n",
    "xgb_test_output = best_model.predict(x_train)\n",
    "print('Spearman correlation for XGB: {:.1f}%'.format(100 * metric_train(xgb_test_output, y_train['TARGET'])[2]))\n",
    "print('MSE for XGB: {:.1f}'.format(metric_train(xgb_test_output, y_train['TARGET'])[0]))\n",
    "print('MAE for XGB: {:.1f}'.format(metric_train(xgb_test_output, y_train['TARGET'])[1]))"
   ]
  },
  {
   "cell_type": "code",
   "execution_count": 22,
   "metadata": {},
   "outputs": [],
   "source": [
    "# Submission\n",
    "xgb_test_output = best_model.predict(x_test)\n",
    "submission = pd.DataFrame({'ID': x_test['ID'], 'TARGET': xgb_test_output})\n",
    "submission.to_csv('data/submission/submission_3.csv', index=False)"
   ]
  },
  {
   "cell_type": "code",
   "execution_count": null,
   "metadata": {},
   "outputs": [],
   "source": []
  }
 ],
 "metadata": {
  "kernelspec": {
   "display_name": "Python 3",
   "language": "python",
   "name": "python3"
  },
  "language_info": {
   "codemirror_mode": {
    "name": "ipython",
    "version": 3
   },
   "file_extension": ".py",
   "mimetype": "text/x-python",
   "name": "python",
   "nbconvert_exporter": "python",
   "pygments_lexer": "ipython3",
   "version": "3.9.6"
  }
 },
 "nbformat": 4,
 "nbformat_minor": 2
}
