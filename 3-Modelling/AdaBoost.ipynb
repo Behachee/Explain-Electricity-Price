{
  "cells": [
    {
      "cell_type": "markdown",
      "metadata": {
        "id": "Omn63V1BU9nC"
      },
      "source": [
        "# Ensemble learning: QRT Challenge"
      ]
    },
    {
      "cell_type": "markdown",
      "metadata": {
        "id": "eyb5-oT1V0RI"
      },
      "source": [
        "## Load libraries"
      ]
    },
    {
      "cell_type": "code",
      "execution_count": 1,
      "metadata": {
        "id": "RsoOHc1VV17e"
      },
      "outputs": [],
      "source": [
        "import pandas as pd\n",
        "import matplotlib.pyplot as plt\n",
        "import seaborn as sns\n",
        "from sklearn.model_selection import train_test_split\n",
        "from sklearn.impute import SimpleImputer\n",
        "from sklearn.preprocessing import StandardScaler\n",
        "import xgboost as xgb\n",
        "from sklearn.model_selection import GridSearchCV\n",
        "from sklearn.ensemble import AdaBoostRegressor\n",
        "from sklearn.tree import DecisionTreeRegressor\n",
        "from sklearn.model_selection import cross_val_score\n",
        "from sklearn.metrics import mean_squared_error\n",
        "from prophet.diagnostics import cross_validation\n",
        "from prophet import Prophet\n",
        "import numpy as np\n",
        "from scipy.stats import spearmanr\n",
        "from sklearn.metrics import make_scorer\n",
        "from sklearn.impute import KNNImputer\n",
        "from sklearn.metrics import mean_absolute_error\n",
        "from sklearn.inspection import permutation_importance"
      ]
    },
    {
      "cell_type": "markdown",
      "metadata": {
        "id": "ZAOBbgfsUzPu"
      },
      "source": [
        "## Load file"
      ]
    },
    {
      "cell_type": "code",
      "execution_count": 2,
      "metadata": {
        "colab": {
          "base_uri": "https://localhost:8080/"
        },
        "id": "mh2_XJRLOjhw",
        "outputId": "07917033-b123-4bef-ca24-2bfe47a6be98"
      },
      "outputs": [
        {
          "output_type": "stream",
          "name": "stdout",
          "text": [
            "Drive already mounted at /content/drive; to attempt to forcibly remount, call drive.mount(\"/content/drive\", force_remount=True).\n"
          ]
        }
      ],
      "source": [
        "#Google Drive access\n",
        "from google.colab import drive\n",
        "drive.mount('/content/drive')"
      ]
    },
    {
      "cell_type": "code",
      "execution_count": 28,
      "metadata": {
        "id": "QctBLPsLZQ-l"
      },
      "outputs": [],
      "source": [
        "X_train = pd.read_csv(\"/content/drive/Shareddrives/Ensemble Learning/data/x_train.csv\")\n",
        "X_test = pd.read_csv(\"/content/drive/Shareddrives/Ensemble Learning/data/x_test.csv\")\n",
        "y_train = pd.read_csv(\"/content/drive/Shareddrives/Ensemble Learning/data/y_train.csv\")\n",
        "X_train['DATE'] = pd.to_datetime(X_train['DATE'])\n",
        "X_test['DATE'] = pd.to_datetime(X_test['DATE'])\n",
        "X_train['Year'] = X_train['DATE'].dt.year\n",
        "X_train['Month'] = X_train['DATE'].dt.month\n",
        "X_train['Day'] = X_train['DATE'].dt.day\n",
        "\n",
        "X_test['Year'] = X_test['DATE'].dt.year\n",
        "X_test['Month'] = X_test['DATE'].dt.month\n",
        "X_test['Day'] = X_test['DATE'].dt.day\n",
        "X_train.drop(columns=['DATE'], inplace=True)\n",
        "X_test.drop(columns=['DATE'], inplace=True)"
      ]
    },
    {
      "cell_type": "markdown",
      "source": [
        "## Define Spearman correlation"
      ],
      "metadata": {
        "id": "mVUjCSsHbHXl"
      }
    },
    {
      "cell_type": "code",
      "source": [
        "def spearman_scorer(y_true, y_pred):\n",
        "    #Calculate Spearman's correlation\n",
        "    correlation, _ = spearmanr(y_true, y_pred)\n",
        "    return correlation\n",
        "\n",
        "#Create a scorer that can be used in GridSearchCV\n",
        "spearman_scoring = make_scorer(spearman_scorer)"
      ],
      "metadata": {
        "id": "OBqgGCCWaT5Z"
      },
      "execution_count": 32,
      "outputs": []
    },
    {
      "cell_type": "markdown",
      "source": [
        "##Split train/test"
      ],
      "metadata": {
        "id": "rtp3gxGAacqd"
      }
    },
    {
      "cell_type": "code",
      "source": [
        "#Split the train set to train the model\n",
        "X_train_split, X_val_split, Y_train_split, Y_val_split = train_test_split(X_train, y_train, test_size=0.2, random_state=42)"
      ],
      "metadata": {
        "id": "dczO9iAuahCU"
      },
      "execution_count": 33,
      "outputs": []
    },
    {
      "cell_type": "markdown",
      "metadata": {
        "id": "V3S7WWStYgoj"
      },
      "source": [
        "## Adaboost"
      ]
    },
    {
      "cell_type": "code",
      "execution_count": 34,
      "metadata": {
        "id": "825xBasAmPm0",
        "colab": {
          "base_uri": "https://localhost:8080/"
        },
        "outputId": "82e9b6c6-f962-4f54-e3f9-bd91d0d3affa"
      },
      "outputs": [
        {
          "output_type": "stream",
          "name": "stdout",
          "text": [
            "ID: 0.0005358337434430778\n",
            "DAY_ID: -1.4882516629122211e-05\n",
            "COUNTRY: -8.413247370146297e-07\n",
            "DE_CONSUMPTION: -0.00014785089601013028\n",
            "FR_CONSUMPTION: 2.091726411560894e-07\n",
            "DE_FR_EXCHANGE: -0.00013773353341733167\n",
            "DE_NET_IMPORT: 0.004877550988657516\n",
            "FR_NET_IMPORT: 0.0007252683232066737\n",
            "DE_GAS: 0.0005738509707378881\n",
            "FR_GAS: -0.00021140653711623585\n",
            "DE_COAL: 0.00034416871600572905\n",
            "FR_COAL: -3.653938343247306e-06\n",
            "DE_HYDRO: 0.0003032227685475397\n",
            "FR_HYDRO: 0.0\n",
            "DE_NUCLEAR: -1.2605630467340163e-05\n",
            "FR_NUCLEAR: -1.4704423247913212e-06\n",
            "DE_SOLAR: -1.906636402867479e-05\n",
            "FR_SOLAR: 6.94409340106598e-06\n",
            "DE_WINDPOW: 0.015337537987440615\n",
            "FR_WINDPOW: 0.0008106979948023895\n",
            "DE_LIGNITE: 1.152580637467926e-05\n",
            "DE_RESIDUAL_LOAD: 0.008892359541560849\n",
            "FR_RESIDUAL_LOAD: -2.7449864400186375e-05\n",
            "DE_RAIN: -1.551599687309076e-05\n",
            "FR_RAIN: -4.179821577413959e-06\n",
            "DE_WIND: 0.00012640980798768928\n",
            "FR_WIND: -2.9813860595121846e-06\n",
            "DE_TEMP: 0.0\n",
            "FR_TEMP: 5.290726058225781e-05\n",
            "GAS_RET: 3.7069824696060276e-05\n",
            "COAL_RET: 0.00012443403666725732\n",
            "CARBON_RET: -8.47567262219832e-05\n",
            "DE_NON_RENEWABLE: -7.238460237276219e-06\n",
            "DE_RENEWABLE: 0.00043190766978734954\n",
            "DE_EXCESS_ENERGY: -3.1413538206004346e-05\n",
            "FR_NON_RENEWABLE: -4.860082849289515e-06\n",
            "FR_RENEWABLE: -2.1545429744233385e-05\n",
            "FR_EXCESS_ENERGY: -9.75770004986424e-05\n",
            "DE_WIND_SQCB: 0.0\n",
            "FR_WIND_SQCB: -2.380548589780984e-05\n",
            "DE_WIND_CBRT: 2.5190667701487553e-05\n",
            "FR_WIND_CBRT: 4.9373152538123574e-05\n",
            "DE_WIND_EXCESS: 0.00023121842679138342\n",
            "FR_WIND_EXCESS: 0.003007005090706264\n",
            "FR_OVERCON: 0.001105818127784634\n",
            "DE_NUCLEAR_CLUSTER: 2.666266674922202e-06\n",
            "DE_NUCLEAR_0: 0.0\n",
            "DE_NUCLEAR_1: 8.000244368440527e-05\n",
            "DE_NUCLEAR_2: 0.0\n",
            "DE_NUCLEAR_3: 1.8726193574680748e-07\n",
            "DE_NUCLEAR_4: 0.0\n",
            "DE_NUCLEAR_5: 0.0\n",
            "Year: 8.406709290019743e-05\n",
            "Month: 8.22885875635393e-05\n",
            "Day: -1.7695427861978234e-05\n",
            "Mean Squared Error on the validation set: 1.1636649273276947\n",
            "Mean Absolute Error on the validation set: 0.5856461929616383\n",
            "Spearman Correlation on the validation set: 0.18183791258932971\n",
            "Grid Search best params : {'learning_rate': 0.01, 'n_estimators': 100}\n"
          ]
        }
      ],
      "source": [
        "base_model = DecisionTreeRegressor(max_depth=3)\n",
        "adaboost_model = AdaBoostRegressor(base_model)\n",
        "\n",
        "#Hyperparameter tuning\n",
        "param_grid = {\n",
        "    'n_estimators': [50, 100, 200],\n",
        "    'learning_rate': [0.01, 0.1, 0.2]\n",
        "}\n",
        "\n",
        "#GridSearchCV\n",
        "grid_search_adaboost = GridSearchCV(adaboost_model, param_grid, scoring='neg_mean_squared_error', cv=5)\n",
        "grid_search_adaboost.fit(X_train_split, Y_train_split.drop(columns=['ID']).values.ravel())\n",
        "\n",
        "#Best params\n",
        "best_params_adaboost = grid_search_adaboost.best_params_\n",
        "\n",
        "#New Adaboost model with the best params\n",
        "best_adaboost_model = AdaBoostRegressor(base_model, **best_params_adaboost)\n",
        "\n",
        "#Train the model with the best parameters\n",
        "best_adaboost_model.fit(X_train_split, Y_train_split.drop(columns=['ID']).values.ravel())\n",
        "result = permutation_importance(\n",
        "    best_adaboost_model, X_val_split, Y_val_split.drop(columns=['ID']).values.ravel(), n_repeats=30, random_state=42\n",
        ")\n",
        "\n",
        "#Print feature importances\n",
        "feature_importance = result.importances_mean\n",
        "for feature, importance in zip(X_val_split.columns, feature_importance):\n",
        "    print(f'{feature}: {importance}')\n",
        "\n",
        "#Predictions on the validation set\n",
        "best_adaboost_predictions = best_adaboost_model.predict(X_val_split)\n",
        "\n",
        "#Evaluate the model performance on the validation set\n",
        "best_adaboost_mse = mean_squared_error(Y_val_split.drop(columns=['ID']).values.ravel(), best_adaboost_predictions)\n",
        "print(f'Mean Squared Error on the validation set: {best_adaboost_mse}')\n",
        "\n",
        "mae = mean_absolute_error(Y_val_split.drop(columns=['ID']).values.ravel(), best_adaboost_predictions)\n",
        "print(f'Mean Absolute Error on the validation set: {mae}')\n",
        "\n",
        "spearman_corr = spearmanr(Y_val_split.drop(columns=['ID']).values.ravel(), best_adaboost_predictions).correlation\n",
        "print(f'Spearman Correlation on the validation set: {spearman_corr}')\n",
        "\n",
        "# Print Grid Search best params\n",
        "print(f'Grid Search best params : {grid_search_adaboost.best_params_}')"
      ]
    },
    {
      "cell_type": "markdown",
      "metadata": {
        "id": "AySaSkWDeseL"
      },
      "source": [
        "## Submission"
      ]
    },
    {
      "cell_type": "code",
      "execution_count": 35,
      "metadata": {
        "id": "S1QRWwLCebR8"
      },
      "outputs": [],
      "source": [
        "Y_test_submission_fe = X_test[['ID']].copy()\n",
        "Y_test_submission_fe['TARGET'] = best_adaboost_model.predict(X_test)\n",
        "Y_test_submission_fe.to_csv('benchmark_qrt_fe.csv', index=False)"
      ]
    }
  ],
  "metadata": {
    "colab": {
      "provenance": []
    },
    "kernelspec": {
      "display_name": "Python 3",
      "name": "python3"
    },
    "language_info": {
      "name": "python"
    }
  },
  "nbformat": 4,
  "nbformat_minor": 0
}